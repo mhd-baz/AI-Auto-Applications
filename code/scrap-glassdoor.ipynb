{
 "cells": [
  {
   "attachments": {},
   "cell_type": "markdown",
   "metadata": {},
   "source": [
    "# Libraries Importations"
   ]
  },
  {
   "cell_type": "code",
   "execution_count": 60,
   "metadata": {},
   "outputs": [],
   "source": [
    "#We import the librarires\n",
    "\n",
    "from selenium import webdriver\n",
    "import undetected_chromedriver as uc\n",
    "from bs4 import BeautifulSoup\n",
    "import time"
   ]
  },
  {
   "attachments": {},
   "cell_type": "markdown",
   "metadata": {},
   "source": [
    "# We define some basic and useful functions"
   ]
  },
  {
   "cell_type": "code",
   "execution_count": 42,
   "metadata": {},
   "outputs": [],
   "source": [
    "def clickElement(category, classe, information):\n",
    "    \"\"\"This function allows you to click on an element of the HTML page\"\"\"\n",
    "    element = driver.find_element_by_xpath(\n",
    "        \"//\" + category + \"[@\" + classe + \"='\" + information + \"']\"\n",
    "    )\n",
    "    element.click()\n",
    "\n",
    "\n",
    "def fillField(category, class_name, information, text):\n",
    "    \"\"\"This function allows you to fill in a field of the HTML page\"\"\"\n",
    "    elem = driver.find_element_by_xpath(\n",
    "        \"//\" + category + \"[@\" + class_name + \"='\" + information + \"']\"\n",
    "    )\n",
    "    elem.click()\n",
    "    elem.clear()\n",
    "    elem.send_keys(text)\n",
    "\n",
    "\n",
    "def openLink(link):\n",
    "    \"\"\"This function allows you to open a link\"\"\"\n",
    "    driver.get(link)\n",
    "    time.sleep(6)\n",
    "    \n",
    "\n",
    "# This function will get all the href links that have the a field data-test = \"job-link\"\n",
    "def getAll_JobDescriptionLinks():\n",
    "    \"\"\"This function allows you to get all the href links that have the a field data-test = \"job-link\" \"\"\"\n",
    "    # We get all the links of the page\n",
    "    links = driver.find_elements_by_xpath(\"//a[@data-test='job-link']\")\n",
    "    # We get the href of all the links\n",
    "    hrefs = [link.get_attribute(\"href\") for link in links]\n",
    "    return hrefs\n",
    "\n",
    "def getAll_JobDescriptionLinks_Indeed():\n",
    "    \"\"\"This function allows you to get all the href links that have the a field data-test = \"job-link\" \"\"\"\n",
    "    # We get all the links of the page\n",
    "    links = driver.find_elements_by_xpath(\"//a[@class='jcs-JobTitle css-jspxzf eu4oa1w0']\")\n",
    "    # We get the href of all the links\n",
    "    hrefs = [link.get_attribute(\"href\") for link in links]\n",
    "    return hrefs\n",
    "\n",
    "\n",
    "def assembleLinkGlassdoor(base, job_name, from_age):\n",
    "    \"\"\"This function allows you to assemble the link of the page to be scraped\"\"\"\n",
    "    # Example: https://www.glassdoor.com/Job/machine-learning-jobs-SRCH_KO0,16.htm?fromAge=1\n",
    "    job_name = job_name.replace(\" \", \"-\")\n",
    "    lenght_job_name = len(job_name)\n",
    "    link = base + \"Job/\" + job_name + \"-jobs-SRCH_KO0,\" + str(lenght_job_name) + \".htm?fromAge=\" + str(from_age)\n",
    "    return link\n",
    "\n",
    "\n",
    "def assembleLinkIndeed(base, job_name, from_age, location):\n",
    "    \"\"\"This function allows you to assemble the link of the page to be scraped\"\"\"\n",
    "    # Example: https://www.indeed.com/jobs?q=machine+learning+engineer&l=United+States&fromage=1\n",
    "    job_name = job_name.replace(\" \", \"+\")\n",
    "    location = location.replace(\" \", \"+\")\n",
    "    link = base + \"jobs?q=\" + job_name + \"&l=\" + location + \"&fromage=\" + str(from_age)\n",
    "    return link"
   ]
  },
  {
   "attachments": {},
   "cell_type": "markdown",
   "metadata": {},
   "source": [
    "# Glassdoor Webscrapping"
   ]
  },
  {
   "cell_type": "code",
   "execution_count": 35,
   "metadata": {},
   "outputs": [
    {
     "name": "stderr",
     "output_type": "stream",
     "text": [
      "C:\\Users\\CYTech Student\\AppData\\Local\\Temp\\ipykernel_18048\\617241832.py:29: DeprecationWarning: find_elements_by_* commands are deprecated. Please use find_elements() instead\n",
      "  links = driver.find_elements_by_xpath(\"//a[@data-test='job-link']\")\n",
      "C:\\Users\\CYTech Student\\AppData\\Local\\Temp\\ipykernel_18048\\617241832.py:3: DeprecationWarning: find_element_by_* commands are deprecated. Please use find_element() instead\n",
      "  element = driver.find_element_by_xpath(\n"
     ]
    }
   ],
   "source": [
    "# We initialize the driver through Firefox\n",
    "global driver\n",
    "driver = webdriver.Firefox()\n",
    "\n",
    "# We set the link of the page we want to scrape\n",
    "base = \"https://www.glassdoor.com/\"\n",
    "job_name = \"machine learning engineer\"\n",
    "from_age = 1\n",
    "\n",
    "# We create the link\n",
    "link = assembleLinkGlassdoor(base, job_name, from_age)\n",
    "# We open the link\n",
    "openLink(link)\n",
    "\n",
    "\n",
    "# We get all the job offers for this search\n",
    "job_offers = []\n",
    "previous_page_offers = []\n",
    "current_page_offers = []\n",
    "while True:\n",
    "    # We get all the job offers\n",
    "    current_page_offers = getAll_JobDescriptionLinks()\n",
    "    # We check if the current page offers are the same as the previous page offers\n",
    "    if current_page_offers == previous_page_offers:\n",
    "        break\n",
    "    else:\n",
    "        # We add the current page offers to the job offers\n",
    "        job_offers += current_page_offers\n",
    "        # We update the previous page offers\n",
    "        previous_page_offers = current_page_offers\n",
    "        # We click on the next button\n",
    "        try:\n",
    "            clickElement(\"span\", \"alt\", \"Close\")\n",
    "            time.sleep(1)\n",
    "        except:\n",
    "            pass\n",
    "        clickElement(\"button\", \"aria-label\", \"Next\")\n",
    "        time.sleep(2)"
   ]
  },
  {
   "cell_type": "code",
   "execution_count": 36,
   "metadata": {},
   "outputs": [
    {
     "data": {
      "text/plain": [
       "32"
      ]
     },
     "execution_count": 36,
     "metadata": {},
     "output_type": "execute_result"
    }
   ],
   "source": [
    "len(job_offers)"
   ]
  },
  {
   "cell_type": "code",
   "execution_count": 38,
   "metadata": {},
   "outputs": [
    {
     "data": {
      "text/plain": [
       "'https://www.glassdoor.com/partner/jobListing.htm?pos=104&ao=1110586&s=58&guid=0000018865374708a00f3f1c838002e6&src=GD_JOB_AD&t=SR&vt=w&cs=1_306bb09c&cb=1685325301867&jobListingId=1008670927834&cpc=654405A9B1E0A9F5&jrtk=3-0-1h1ijehq6jii7801-1h1ijehqk284q000-a5890b1f0bf55a24--6NYlbfkN0C8DhssTksZ4tAWhh8LVIFF2qionQVVpONm6qYGpiaOiReQCnL4QXiir2PHzKHErG7_WxnSv0mVixlNr2xAMJM1dsiGdBv3zwL-QpFkYOMMJ6-B5xU5RKCYvaAXSaY3dAcjnOGT7RZ0Wsn9n043U-ud_DKBoFJFXAgnNzdo-MylnYJ1N3L3MVBRxJCQqkiDNvo_Njfmn1L_5ugiL7pduLZGuqKUroiJ3nXoz5KLnthY8BM4avmyIphzJlQjBxl78SvTKvVnmw9QOvyJUQOQo2BL9rhYRZs3JNYvMWDoUg1F0dvJSBYs_t98DLa396DgdN7iLMijYHpoVChWFAEfDe0ZTVN5oJBCDHKwXLz-9mlZMMXZbewTDbBwSs-FaHZMtgSELVyoA8oVDcq1tuAUsAl21PndLX9CmZ5Ih61727bgu9QKBaTGhvMzAompNlF9SSS5swIvnfohDRHVgS_pr2jcHJCIwiS7E92LoNY-PaDXEZ8OTwpL3ok-_NBSxp5zsh4bYRMYmRYuW4GxtWoq7ogXMegP6vkBe_49sapAWFOpaedA0yJZQt6C16PDL_JOdHvW8aZUOyarC51-D26ylrxqaGwpzU3CleLY37RuJyVqW717IA7MPelalQ_kyHVe9tjvsXE1M667M6hHrnA0_UkjcUCk2WIXeSYFfoOUaqGbepZPehtx3lm_rDB3WqLqBbOEEfOegCxrKZHnnlNUfOs_qJrtOKkejFW5GwLwHvJsh-3LXuKaH_jGVjDNeWfhjMFWKUXPJ6QXIsNkOmDubYYQx13Cp0_jNlf8E9vGfZmdyjenDHIaoGC7cLjXDCQgRBoSpqj1oU9j8w%3D%3D'"
      ]
     },
     "execution_count": 38,
     "metadata": {},
     "output_type": "execute_result"
    }
   ],
   "source": [
    "job_offers[3]"
   ]
  },
  {
   "attachments": {},
   "cell_type": "markdown",
   "metadata": {},
   "source": [
    "# Indeed WebScrapping"
   ]
  },
  {
   "cell_type": "code",
   "execution_count": 66,
   "metadata": {},
   "outputs": [
    {
     "name": "stderr",
     "output_type": "stream",
     "text": [
      "C:\\Users\\CYTech Student\\AppData\\Local\\Temp\\ipykernel_18048\\4266679789.py:37: DeprecationWarning: find_elements_by_* commands are deprecated. Please use find_elements() instead\n",
      "  links = driver.find_elements_by_xpath(\"//a[@class='jcs-JobTitle css-jspxzf eu4oa1w0']\")\n",
      "C:\\Users\\CYTech Student\\AppData\\Local\\Temp\\ipykernel_18048\\4266679789.py:3: DeprecationWarning: find_element_by_* commands are deprecated. Please use find_element() instead\n",
      "  element = driver.find_element_by_xpath(\n"
     ]
    }
   ],
   "source": [
    "# We initialize the driver through Firefox\n",
    "global driver\n",
    "driver = uc.Chrome(use_subprocess=True)\n",
    "\n",
    "# We set the link of the page we want to scrape\n",
    "base = \"https://www.indeed.com/\"\n",
    "job_name = \"machine learning engineer\"\n",
    "from_age = 1\n",
    "location = \"United States\"\n",
    "\n",
    "# We create the link\n",
    "link = assembleLinkIndeed(base, job_name, from_age, location)\n",
    "# We open the link\n",
    "openLink(link)\n",
    "time.sleep(2)\n",
    "\n",
    "# We get all the job offers for this search\n",
    "job_offers = []\n",
    "\n",
    "while True:\n",
    "    # We get all the job offers of the first page\n",
    "    current_page_offers = getAll_JobDescriptionLinks_Indeed()\n",
    "    # We add the current page offers to the job offers\n",
    "    job_offers += current_page_offers\n",
    "\n",
    "    # We try to click on the next button\n",
    "    try:\n",
    "        clickElement(\"a\", \"data-testid\", \"pagination-page-next\")\n",
    "        time.sleep(2)\n",
    "    except:\n",
    "        break\n"
   ]
  }
 ],
 "metadata": {
  "kernelspec": {
   "display_name": "Python 3",
   "language": "python",
   "name": "python3"
  },
  "language_info": {
   "codemirror_mode": {
    "name": "ipython",
    "version": 3
   },
   "file_extension": ".py",
   "mimetype": "text/x-python",
   "name": "python",
   "nbconvert_exporter": "python",
   "pygments_lexer": "ipython3",
   "version": "3.8.3"
  },
  "orig_nbformat": 4
 },
 "nbformat": 4,
 "nbformat_minor": 2
}
