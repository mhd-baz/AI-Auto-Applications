{
 "cells": [
  {
   "cell_type": "code",
   "execution_count": 1,
   "metadata": {},
   "outputs": [],
   "source": [
    "import mysql.connector\n",
    "\n",
    "db_connection = mysql.connector.connect(\n",
    "    host=\"localhost\",\n",
    "    user=\"\",\n",
    "    password=\"\"\n",
    ")\n",
    "\n",
    "cursor = db_connection.cursor()\n",
    "\n",
    "# Create the database\n",
    "cursor.execute(\"CREATE DATABASE jobsearch\")\n",
    "\n",
    "cursor.execute(\"USE jobsearch\")\n",
    "\n",
    "create_table_query = \"\"\"\n",
    "CREATE TABLE job_data (\n",
    "    id INT AUTO_INCREMENT PRIMARY KEY,\n",
    "    link VARCHAR(255),\n",
    "    date DATE,\n",
    "    platform VARCHAR(50)\n",
    ")\n",
    "\"\"\"\n"
   ]
  }
 ],
 "metadata": {
  "kernelspec": {
   "display_name": "Python 3",
   "language": "python",
   "name": "python3"
  },
  "language_info": {
   "codemirror_mode": {
    "name": "ipython",
    "version": 3
   },
   "file_extension": ".py",
   "mimetype": "text/x-python",
   "name": "python",
   "nbconvert_exporter": "python",
   "pygments_lexer": "ipython3",
   "version": "3.8.3"
  },
  "orig_nbformat": 4
 },
 "nbformat": 4,
 "nbformat_minor": 2
}
